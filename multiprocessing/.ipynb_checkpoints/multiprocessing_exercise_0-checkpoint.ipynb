{
 "cells": [
  {
   "cell_type": "markdown",
   "id": "7e589ef3",
   "metadata": {},
   "source": [
    "# Exercise 0\n",
    "### Step 0\n",
    "Compute and print the cubes of numbers `0..9` with a `for` loop."
   ]
  },
  {
   "cell_type": "code",
   "execution_count": 1,
   "id": "656b87a0",
   "metadata": {},
   "outputs": [
    {
     "name": "stdout",
     "output_type": "stream",
     "text": [
      "[0, 1, 8, 27, 64, 125, 216, 343, 512, 729]\n"
     ]
    }
   ],
   "source": [
    "inputs = range(10)\n",
    "... # TODO compute cubes\n",
    "results=[e**3 for e in inputs]\n",
    "print(results)"
   ]
  },
  {
   "cell_type": "code",
   "execution_count": 6,
   "id": "97c793fa",
   "metadata": {},
   "outputs": [
    {
     "name": "stdout",
     "output_type": "stream",
     "text": [
      "[0, 1, 8, 27, 64, 125, 216, 343, 512, 729]\n"
     ]
    }
   ],
   "source": [
    "results=[cub(e) for e in inputs]\n",
    "print(results)"
   ]
  },
  {
   "cell_type": "markdown",
   "id": "d1d1e41c",
   "metadata": {},
   "source": [
    "### Step 1\n",
    "Compute and print the cubes of numbers `0..9` using `map`."
   ]
  },
  {
   "cell_type": "code",
   "execution_count": 4,
   "id": "b3e934a0",
   "metadata": {},
   "outputs": [
    {
     "name": "stdout",
     "output_type": "stream",
     "text": [
      "[0, 1, 8, 27, 64, 125, 216, 343, 512, 729]\n"
     ]
    }
   ],
   "source": [
    "inputs = range(10)\n",
    "... # TODO compute cubes\n",
    "def cub(x):\n",
    "    return x**3\n",
    "results = list(map(cub,inputs))\n",
    "print(results)"
   ]
  },
  {
   "cell_type": "code",
   "execution_count": 8,
   "id": "2423b828",
   "metadata": {},
   "outputs": [
    {
     "data": {
      "text/plain": [
       "[0, 1, 8, 27, 64, 125, 216, 343, 512, 729]"
      ]
     },
     "execution_count": 8,
     "metadata": {},
     "output_type": "execute_result"
    }
   ],
   "source": [
    " list(map(lambda x: x**3,inputs))"
   ]
  },
  {
   "cell_type": "code",
   "execution_count": 21,
   "id": "5970eabf",
   "metadata": {},
   "outputs": [],
   "source": [
    "def sum_numbers(n):\n",
    "    r = 0\n",
    "    for i in range(n):\n",
    "        r += i\n",
    "    return r"
   ]
  },
  {
   "cell_type": "code",
   "execution_count": 22,
   "id": "617f6ef8",
   "metadata": {},
   "outputs": [],
   "source": [
    "inputs = [60000000, 50000000, 80000000, 70000000]"
   ]
  },
  {
   "cell_type": "code",
   "execution_count": 24,
   "id": "b559af10",
   "metadata": {},
   "outputs": [
    {
     "name": "stdout",
     "output_type": "stream",
     "text": [
      "CPU times: user 16 s, sys: 10.6 ms, total: 16 s\n",
      "Wall time: 16 s\n"
     ]
    }
   ],
   "source": [
    "%%time\n",
    "results = list(map(sum_numbers, inputs))"
   ]
  },
  {
   "cell_type": "code",
   "execution_count": 15,
   "id": "8b73f4d9",
   "metadata": {},
   "outputs": [],
   "source": [
    "import multiprocessing"
   ]
  },
  {
   "cell_type": "code",
   "execution_count": 16,
   "id": "ebd2bd85",
   "metadata": {},
   "outputs": [
    {
     "data": {
      "text/plain": [
       "4"
      ]
     },
     "execution_count": 16,
     "metadata": {},
     "output_type": "execute_result"
    }
   ],
   "source": [
    "multiprocessing.cpu_count()"
   ]
  },
  {
   "cell_type": "code",
   "execution_count": 18,
   "id": "efaf778a",
   "metadata": {},
   "outputs": [],
   "source": [
    "from multiprocessing.pool import Pool as ProcessPool"
   ]
  },
  {
   "cell_type": "code",
   "execution_count": 25,
   "id": "d5c1c84c",
   "metadata": {},
   "outputs": [
    {
     "name": "stdout",
     "output_type": "stream",
     "text": [
      "[1799999970000000, 1249999975000000, 3199999960000000, 2449999965000000]\n",
      "CPU times: user 9.64 ms, sys: 7.68 ms, total: 17.3 ms\n",
      "Wall time: 9.92 s\n"
     ]
    }
   ],
   "source": [
    "%%time\n",
    "with ProcessPool(processes=2) as pool:\n",
    "    results = pool.map(sum_numbers, inputs)\n",
    "print(results)"
   ]
  }
 ],
 "metadata": {
  "kernelspec": {
   "display_name": "Python 3 (ipykernel)",
   "language": "python",
   "name": "python3"
  },
  "language_info": {
   "codemirror_mode": {
    "name": "ipython",
    "version": 3
   },
   "file_extension": ".py",
   "mimetype": "text/x-python",
   "name": "python",
   "nbconvert_exporter": "python",
   "pygments_lexer": "ipython3",
   "version": "3.11.3"
  }
 },
 "nbformat": 4,
 "nbformat_minor": 5
}
