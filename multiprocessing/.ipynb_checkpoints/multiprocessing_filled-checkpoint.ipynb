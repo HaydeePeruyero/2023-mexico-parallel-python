{
 "cells": [
  {
   "cell_type": "markdown",
   "id": "179af4aa",
   "metadata": {
    "slideshow": {
     "slide_type": "-"
    }
   },
   "source": [
    "## The builtin `multiprocessing` module\n",
    "\n",
    "Jakob will introduce the builtin `multiprocessing` module, which allows you to simply parallelize work in Python.\n",
    "\n",
    "Here, we will only consider embarassingly parallel problems (more on that in a second)."
   ]
  },
  {
   "cell_type": "markdown",
   "id": "9bda58b0",
   "metadata": {},
   "source": [
    "# Serial Python\n",
    "\n",
    "Before we get into parallel processing, let's first consider how the type of problems we'll consider are typically solved without parallelization. We'll focus on problems which have the following form: "
   ]
  },
  {
   "cell_type": "code",
   "execution_count": 1,
   "id": "e06fd89e",
   "metadata": {},
   "outputs": [
    {
     "name": "stdout",
     "output_type": "stream",
     "text": [
      "[0, 1, 4, 9, 16, 25, 36, 49, 64, 81]\n"
     ]
    }
   ],
   "source": [
    "def do_science(x):\n",
    "    \"\"\"For example:\n",
    "    - training a neural network (hyperparameter tuning!)\n",
    "    - getting results from a database\n",
    "    - scraping some websites\n",
    "    - reading files\n",
    "    - sampling monte-carlo style\n",
    "    \"\"\"\n",
    "    return x ** 2  # we don't really do anything ;)\n",
    "\n",
    "results = []\n",
    "input_data = range(10)\n",
    "for x in input_data:\n",
    "    results.append(do_science(x))\n",
    "print(results)"
   ]
  },
  {
   "cell_type": "markdown",
   "id": "4e17e454",
   "metadata": {},
   "source": [
    "This typical structure (or \"smell\") is pretty common and most likely all of you have something similar somewhere in your code. It's an excellent opportunity for leveraging parallelism to speed things up. However, first we'll rewrite this code using the builtin `map` function, it makes the code more compact and it will be easier to make this run in parallel. `map` takes a function and an iterable and applies the function to each item."
   ]
  },
  {
   "cell_type": "code",
   "execution_count": 2,
   "id": "e1ed56dd",
   "metadata": {},
   "outputs": [
    {
     "name": "stdout",
     "output_type": "stream",
     "text": [
      "[0, 1, 4, 9, 16, 25, 36, 49, 64, 81]\n"
     ]
    }
   ],
   "source": [
    "# when applying a function to a bunch of data, maybe you would use list comprehension\n",
    "results = [do_science(x) for x in input_data]\n",
    "print(results)"
   ]
  },
  {
   "cell_type": "code",
   "execution_count": 3,
   "id": "bb2369bd",
   "metadata": {},
   "outputs": [
    {
     "name": "stdout",
     "output_type": "stream",
     "text": [
      "[0, 1, 4, 9, 16, 25, 36, 49, 64, 81]\n"
     ]
    }
   ],
   "source": [
    "# however, here we use map to later use its parallel implementations\n",
    "results = map(do_science, input_data)\n",
    "results = list(results)\n",
    "print(results)"
   ]
  },
  {
   "cell_type": "markdown",
   "id": "6e6bcf98",
   "metadata": {},
   "source": [
    "(watch out: `map` returns a generator, you need to \"exhaust it\" (convert it to a list) explicitly)."
   ]
  },
  {
   "cell_type": "markdown",
   "id": "9437e391",
   "metadata": {},
   "source": [
    "### Questions?"
   ]
  },
  {
   "cell_type": "markdown",
   "id": "3210a313",
   "metadata": {},
   "source": [
    "## Exercise 0"
   ]
  },
  {
   "cell_type": "markdown",
   "id": "c245d50d",
   "metadata": {},
   "source": [
    "Questions:\n",
    "- Can we also compute the *sum* of numbers `0..9` using map? -> no(t trivially). results of operations depend on each other. this is a contra-indicator for \"embarrassingly parallel\" problems"
   ]
  },
  {
   "cell_type": "markdown",
   "id": "6a2da038",
   "metadata": {},
   "source": [
    "# Embarassingly parallel Python\n",
    "This type of problem is referred to as \"embarrassingly parallel\" problems. This indicates that they can be easily parallelized across threads or processes as they do not require interaction while running (they can also be run in serial!). For these types of problems, we can use the builtin `multiprocessing` module. It supports parallel versions of `map` which can be run in parallel processes."
   ]
  },
  {
   "cell_type": "markdown",
   "id": "4e052056",
   "metadata": {},
   "source": [
    "# Parallel processes\n",
    "Here, we use the `ProcessPool` from the `multiprocessing` module. This distributes work across multiple processes running separate instances of the Python interpreter. This allows us to circumvent the limitations of the GIL and achieve truly parallel code execution. For use cases which are **compute bound**, it is an excellent, simple-to-use option. As already introduced above, these use cases may include numerical simulations, sampling methods etc. Unfortunately, using multiple processes introduces some downsides, such as some overhead (time & memory) for launching processes and increased memory consumption (e.g., duplication of data; warning: depends on implementation and use case)."
   ]
  },
  {
   "cell_type": "code",
   "execution_count": 4,
   "id": "33872ef7",
   "metadata": {},
   "outputs": [],
   "source": [
    "def sum_numbers(n):\n",
    "    r = 0\n",
    "    for i in range(n):\n",
    "        r += i\n",
    "    return r"
   ]
  },
  {
   "cell_type": "code",
   "execution_count": 5,
   "id": "0e9fbaec",
   "metadata": {},
   "outputs": [],
   "source": [
    "inputs = [60_000_000, 80_000_000, 50_000_000, 70_000_000]"
   ]
  },
  {
   "cell_type": "code",
   "execution_count": 6,
   "id": "74ab1a16",
   "metadata": {},
   "outputs": [
    {
     "name": "stdout",
     "output_type": "stream",
     "text": [
      "CPU times: user 7.01 s, sys: 0 ns, total: 7.01 s\n",
      "Wall time: 7.01 s\n"
     ]
    },
    {
     "data": {
      "text/plain": [
       "[1799999970000000, 3199999960000000, 1249999975000000, 2449999965000000]"
      ]
     },
     "execution_count": 6,
     "metadata": {},
     "output_type": "execute_result"
    }
   ],
   "source": [
    "%%time\n",
    "results = list(map(sum_numbers, inputs))\n",
    "results"
   ]
  },
  {
   "cell_type": "markdown",
   "id": "01b75c29",
   "metadata": {},
   "source": [
    "Now we'll parallelize this code. First, let's figure out how many CPUs (cores) we have available. On Intel machines, divide that number by two to see how many cores actually can do work in parallel (\"hyper-threading(TM)\" has questionable benefits, see later measurements.)"
   ]
  },
  {
   "cell_type": "code",
   "execution_count": 7,
   "id": "a83fa715",
   "metadata": {},
   "outputs": [
    {
     "data": {
      "text/plain": [
       "8"
      ]
     },
     "execution_count": 7,
     "metadata": {},
     "output_type": "execute_result"
    }
   ],
   "source": [
    "import multiprocessing\n",
    "multiprocessing.cpu_count()"
   ]
  },
  {
   "cell_type": "code",
   "execution_count": 8,
   "id": "206b29e3",
   "metadata": {},
   "outputs": [],
   "source": [
    "from multiprocessing.pool import Pool as ProcessPool"
   ]
  },
  {
   "cell_type": "code",
   "execution_count": 9,
   "id": "185c4660",
   "metadata": {},
   "outputs": [
    {
     "name": "stdout",
     "output_type": "stream",
     "text": [
      "[1799999970000000, 3199999960000000, 1249999975000000, 2449999965000000]\n",
      "CPU times: user 12.7 ms, sys: 10.9 ms, total: 23.6 ms\n",
      "Wall time: 2.42 s\n"
     ]
    }
   ],
   "source": [
    "%%time\n",
    "with ProcessPool(processes=8) as pool:  # context manager providing a `Pool` instance\n",
    "    result = pool.map(sum_numbers, inputs)\n",
    "print(result)"
   ]
  },
  {
   "cell_type": "markdown",
   "id": "97b25719",
   "metadata": {},
   "source": [
    "Nice speed up! And it's so easy! 🤩"
   ]
  },
  {
   "cell_type": "markdown",
   "id": "a1b8e408",
   "metadata": {},
   "source": [
    "### Questions?"
   ]
  },
  {
   "cell_type": "markdown",
   "id": "931a8a95",
   "metadata": {},
   "source": [
    "## Exercise 1"
   ]
  },
  {
   "cell_type": "markdown",
   "id": "e3c0af36",
   "metadata": {},
   "source": [
    "Observations?\n",
    "- results are identical to serial execution; good!\n",
    "- runtime is reduced compared to serial execution\n",
    "- increased CPU load on multiple cores\n",
    "- caveat: no automatic load balancing, tasks are executed in order\n",
    "\n",
    "Questions:\n",
    "- What is the fundamental difference between threads and processes? -> memory shared across threads, by default not across processes\n",
    "- How is data communicated between threads? -> shared memory (direct access)\n",
    "- How is data communicated between processes? -> sending serialized data from one process to the other (in Python: `pickle` -> problems with stuff that's not picklable), or set up shared memory"
   ]
  },
  {
   "cell_type": "markdown",
   "id": "b1ff1be9",
   "metadata": {},
   "source": [
    "### Parallel speedup\n",
    "\n",
    "So how much faster does my code become when I'm increasing the number of processes? Here we investigate the relative speedup ($T_\\textrm{parallel} / T_\\textrm{serial}$) for an increasing number of processes."
   ]
  },
  {
   "cell_type": "code",
   "execution_count": 10,
   "id": "4ed805b5",
   "metadata": {},
   "outputs": [
    {
     "data": {
      "text/plain": [
       "[4.203528642654419,\n",
       " 2.126319408416748,\n",
       " 1.692739486694336,\n",
       " 1.213775396347046,\n",
       " 1.249891996383667,\n",
       " 1.4837088584899902,\n",
       " 1.4603955745697021,\n",
       " 1.4489529132843018,\n",
       " 1.5596044063568115,\n",
       " 1.6124353408813477,\n",
       " 1.5676007270812988]"
      ]
     },
     "execution_count": 10,
     "metadata": {},
     "output_type": "execute_result"
    }
   ],
   "source": [
    "import time\n",
    "import multiprocessing\n",
    "import numpy as np\n",
    "\n",
    "\n",
    "inputs = [10_000_000] * 16\n",
    "times = []\n",
    "n_processes = np.arange(1, multiprocessing.cpu_count() + 4)\n",
    "for n in n_processes:\n",
    "    t0 = time.time()\n",
    "    with ProcessPool(processes=n) as pool:\n",
    "        result = pool.map(sum_numbers, inputs)\n",
    "    times.append(time.time() - t0)\n",
    "\n",
    "times"
   ]
  },
  {
   "cell_type": "code",
   "execution_count": 11,
   "id": "d7239413",
   "metadata": {},
   "outputs": [
    {
     "data": {
      "text/plain": [
       "<matplotlib.legend.Legend at 0x7fb37f8802b0>"
      ]
     },
     "execution_count": 11,
     "metadata": {},
     "output_type": "execute_result"
    },
    {
     "data": {
      "image/png": "[encoded data removed]",
      "text/plain": [
       "<Figure size 432x288 with 1 Axes>"
      ]
     },
     "metadata": {
      "needs_background": "light"
     },
     "output_type": "display_data"
    }
   ],
   "source": [
    "import matplotlib.pyplot as plt\n",
    "import numpy as np\n",
    "\n",
    "times = np.array(times)\n",
    "fig, axes = plt.subplots()\n",
    "axes.plot(n_processes, 1.0 * n_processes, color='k', linestyle='--', label='ideal')\n",
    "axes.plot(n_processes, times[0] / times, marker='o', label='measured')\n",
    "axes.set_xlabel(r'$n$ processes')\n",
    "axes.set_ylabel('relative speedup')\n",
    "fig.legend()"
   ]
  },
  {
   "cell_type": "markdown",
   "id": "fbd68ac4",
   "metadata": {},
   "source": [
    "Observations\n",
    "- perfect speedup up to X processes, (on some machines) good speedup until ~Y processes with decreasing benefits\n",
    "- no (significant) benefits for more processes\n",
    "- rule of thumb: benefits up to number of cores / 2"
   ]
  },
  {
   "cell_type": "markdown",
   "id": "ced84a2d",
   "metadata": {},
   "source": [
    "## Resources\n",
    "https://www.youtube.com/watch?v=AG1soUh4-nU"
   ]
  }
 ],
 "metadata": {
  "celltoolbar": "Slideshow",
  "kernelspec": {
   "display_name": "Python 3 (ipykernel)",
   "language": "python",
   "name": "python3"
  },
  "language_info": {
   "codemirror_mode": {
    "name": "ipython",
    "version": 3
   },
   "file_extension": ".py",
   "mimetype": "text/x-python",
   "name": "python",
   "nbconvert_exporter": "python",
   "pygments_lexer": "ipython3",
   "version": "3.11.3"
  }
 },
 "nbformat": 4,
 "nbformat_minor": 5
}
